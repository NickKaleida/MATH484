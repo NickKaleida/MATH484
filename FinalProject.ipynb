{
  "nbformat": 4,
  "nbformat_minor": 0,
  "metadata": {
    "colab": {
      "provenance": [],
      "authorship_tag": "ABX9TyMOF44CzQzbRhwHiWktr+TW",
      "include_colab_link": true
    },
    "kernelspec": {
      "name": "python3",
      "display_name": "Python 3"
    },
    "language_info": {
      "name": "python"
    }
  },
  "cells": [
    {
      "cell_type": "markdown",
      "metadata": {
        "id": "view-in-github",
        "colab_type": "text"
      },
      "source": [
        "<a href=\"https://colab.research.google.com/github/NickKaleida/MATH484/blob/main/FinalProject.ipynb\" target=\"_parent\"><img src=\"https://colab.research.google.com/assets/colab-badge.svg\" alt=\"Open In Colab\"/></a>"
      ]
    },
    {
      "cell_type": "code",
      "execution_count": null,
      "metadata": {
        "colab": {
          "base_uri": "https://localhost:8080/"
        },
        "id": "i46q8cfQI46t",
        "outputId": "cb068c0d-6da3-4e58-ab98-2bf6fcd60ef9"
      },
      "outputs": [
        {
          "output_type": "stream",
          "name": "stdout",
          "text": [
            "IPython console for SymPy 1.13.1 (Python 3.10.12-64-bit) (ground types: python)\n",
            "\n",
            "These commands were executed:\n",
            ">>> from sympy import *\n",
            ">>> x, y, z, t = symbols('x y z t')\n",
            ">>> k, m, n = symbols('k m n', integer=True)\n",
            ">>> f, g, h = symbols('f g h', cls=Function)\n",
            ">>> init_printing()\n",
            "\n",
            "Documentation can be found at https://docs.sympy.org/1.13.1/\n",
            "\n"
          ]
        }
      ],
      "source": [
        "from sympy import init_session\n",
        "init_session()"
      ]
    },
    {
      "cell_type": "code",
      "source": [
        "M = symbols('M', integer = True, positive = True)"
      ],
      "metadata": {
        "id": "jZhOHTMlJTpc"
      },
      "execution_count": null,
      "outputs": []
    }
  ]
}